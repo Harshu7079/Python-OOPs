{
  "nbformat": 4,
  "nbformat_minor": 0,
  "metadata": {
    "colab": {
      "provenance": []
    },
    "kernelspec": {
      "name": "python3",
      "display_name": "Python 3"
    },
    "language_info": {
      "name": "python"
    }
  },
  "cells": [
    {
      "cell_type": "code",
      "execution_count": null,
      "metadata": {
        "id": "dx0aUcnlJpmr"
      },
      "outputs": [],
      "source": []
    },
    {
      "cell_type": "markdown",
      "source": [
        "**Python OOPs Questions Theory**"
      ],
      "metadata": {
        "id": "TeaouYMzJw4Q"
      }
    },
    {
      "cell_type": "markdown",
      "source": [
        "Q1. What is Object-Oriented Programming (OOP)1?\n",
        "\n",
        "- Object-Oriented Programming (OOP) is a programming paradigm that is centered around the concept of \"objects.\" These objects are instances of classes, which define the blueprint for creating them. OOP organizes software design around these objects rather than functions or logic. The main goal of OOP is to make software more modular, reusable, and easier to maintain.\n",
        "\n",
        "- Key Concepts of OOP:\n",
        "\n",
        " 1.Classes and Objects\n",
        "\n",
        " 2.Encapsulation\n",
        "\n",
        " 3.Inheritance\n",
        "\n",
        " 4.Polymorphism\n",
        "\n",
        " 5.Abstraction\n",
        "\n",
        "Advantages of OOP:\n",
        "\n",
        "- Modularity: Programs are divided into smaller, manageable objects.\n",
        "- Reusability: Once a class is written, it can be reused in other programs or parts of the program.\n",
        "- Scalability and Maintainability: It’s easier to scale and maintain software as changes to one part of the system can be made without affecting others.\n",
        "- Flexibility: Polymorphism and inheritance allow for flexible code designs."
      ],
      "metadata": {
        "id": "ZPd5VsbKJ3u2"
      }
    },
    {
      "cell_type": "markdown",
      "source": [
        "Q2. What is a class in OOP?\n",
        "\n",
        "In Object-Oriented Programming (OOP), a class is a blueprint or template used to create objects (instances). It defines the structure and behavior that the objects created from it will have. A class specifies the attributes (data) and methods (functions) that an object of that class will possess.\n",
        "\n",
        "Key Points About Classes:\n",
        "\n",
        "- Attributes (also known as Properties or Fields)\n",
        "\n",
        "- Methods (also known as Functions or Behaviors)\n",
        "\n",
        "- Constructor"
      ],
      "metadata": {
        "id": "a-dW7oY4KzI9"
      }
    },
    {
      "cell_type": "markdown",
      "source": [
        "Q3.What is an object in OOP?\n",
        "\n",
        "In Object-Oriented Programming (OOP), an object is an instance of a class. It is a specific, tangible realization of the blueprint provided by a class. An object contains data (attributes) and functions (methods) that operate on that data.\n",
        "\n",
        "Key Characteristics of an Object\n",
        "\n",
        "- Attributes (or Properties/Fields)\n",
        "\n",
        "- Methods (or Behaviors)\n",
        "\n",
        "- Identity\n",
        "\n",
        "\n",
        "Example of an Object in OOP (in Python):"
      ],
      "metadata": {
        "id": "Pt7O4vkQLAOr"
      }
    },
    {
      "cell_type": "code",
      "source": [
        "class Car:\n",
        "    def __init__(self, make, model, year, color):\n",
        "        self.make = make  # Attribute\n",
        "        self.model = model  # Attribute\n",
        "        self.year = year  # Attribute\n",
        "        self.color = color  # Attribute\n",
        "\n",
        "    def start(self):  # Method\n",
        "        return f\"The {self.color} {self.year} {self.make} {self.model} is starting.\"\n",
        "\n",
        "    def drive(self):  # Method\n",
        "        return f\"The {self.color} {self.year} {self.make} {self.model} is now driving.\"\n",
        "\n",
        "# Creating an object (instance) of the Car class\n",
        "my_car = Car(\"Tesla\", \"Model S\", 2022, \"red\")\n",
        "\n",
        "# Accessing attributes and calling methods on the object\n",
        "print(my_car.start())  # Output: The red 2022 Tesla Model S is starting.\n",
        "print(my_car.drive())  # Output: The red 2022 Tesla Model S is now driving.\n"
      ],
      "metadata": {
        "colab": {
          "base_uri": "https://localhost:8080/"
        },
        "id": "FrZpVk8yLVaQ",
        "outputId": "57ee1eee-8ff7-48a4-8983-826225c5ffd2"
      },
      "execution_count": null,
      "outputs": [
        {
          "output_type": "stream",
          "name": "stdout",
          "text": [
            "The red 2022 Tesla Model S is starting.\n",
            "The red 2022 Tesla Model S is now driving.\n"
          ]
        }
      ]
    },
    {
      "cell_type": "code",
      "source": [],
      "metadata": {
        "id": "MVvPKw81LY9O"
      },
      "execution_count": null,
      "outputs": []
    },
    {
      "cell_type": "markdown",
      "source": [
        "Q4.What is the difference between abstraction and encapsulation?\n",
        "\n",
        "In Object-Oriented Programming (OOP), abstraction and encapsulation are two fundamental concepts that help in organizing and managing code, but they serve different purposes. Let's break down their differences:\n",
        "\n",
        "1.Abstraction\n",
        "\n",
        "Abstraction refers to the concept of hiding the complexity of a system and showing only the essential features to the user. It allows you to focus on what an object does, rather than how it does it. In other words, abstraction is about defining interfaces and providing a simplified view of the underlying implementation.\n",
        "\n",
        "Key Points about Abstraction:\n",
        "\n",
        "- Hides complexity: Only the relevant details are exposed, and unnecessary details are hidden.\n",
        "- Focuses on \"what\" an object does: It defines the essential properties and behaviors an object should have, without worrying about the implementation details.\n",
        "- Implemented using abstract classes or interfaces: In languages like Java and C#, abstraction can be implemented with abstract classes or interfaces, while in Python, it can be achieved through abstract base classes (ABC).\n",
        "\n",
        "\n",
        "2. Encapsulation\n",
        "\n",
        "Encapsulation refers to the concept of bundling the data (attributes) and the methods (functions) that operate on that data into a single unit called an object. It also involves controlling access to the data by using access modifiers (like private, public, and protected) to restrict or allow certain operations.\n",
        "\n",
        "Encapsulation is focused on data hiding—it allows for controlling how the internal state of an object is accessed and modified. This is often achieved by using getter and setter methods to provide controlled access to the object's attributes.\n",
        "\n",
        "Key Points about Encapsulation:\n",
        "\n",
        "- Data hiding: It hides the internal state of the object and exposes only the necessary parts to the outside world.\n",
        "- Controlled access: Access to the object's data is controlled through methods (getters and setters), ensuring that the data is accessed and modified in a controlled way.\n",
        "- Improves security and maintainability: By restricting direct access to an object's attributes, encapsulation helps protect the integrity of the data and makes the system easier to maintain.\n"
      ],
      "metadata": {
        "id": "G5rDVcGgLcy6"
      }
    },
    {
      "cell_type": "markdown",
      "source": [
        "Q5.What are dunder methods in Python?\n",
        "\n",
        "In Python, dunder methods (short for \"double underscore methods\") are special methods that have a name starting and ending with double underscores (__). They are also known as magic methods or special methods because they are used to implement or customize default behavior for objects in Python.\n",
        "\n",
        "These methods enable you to define or modify how objects behave in certain situations, such as when they are compared, printed, or used in arithmetic operations. Dunder methods allow for the customization of built-in Python functions and operators.\n",
        "\n",
        "Common Dunder Methods in Python:\n",
        "\n",
        "init(self)\n",
        "\n",
        "str(self)\n",
        "\n",
        "repr(self)\n",
        "\n",
        "add(self, other)\n",
        "\n",
        "eq(self, other)\n",
        "\n",
        "len(self)\n",
        "\n",
        "getitem(self, key)\n",
        "\n",
        "setitem(self, key, value)\n",
        "\n",
        "del(self)\n",
        "\n"
      ],
      "metadata": {
        "id": "0gqQMDzTLxL3"
      }
    },
    {
      "cell_type": "markdown",
      "source": [
        "Q6.Explain the concept of inheritance in OOP ?\n",
        "\n",
        "Inheritance is a core concept in Object-Oriented Programming (OOP) that allows a class (called a child or subclass) to inherit attributes and methods from another class (called a parent or superclass). This promotes code reuse, making it easier to create new classes based on existing ones, while allowing for modification or extension of the parent class's functionality.\n",
        "\n",
        "Key Points of Inheritance:\n",
        "\n",
        "Code Reusability: A subclass can reuse the code (attributes and methods) defined in the parent class, reducing redundancy.\n",
        "Extensibility: The subclass can add or modify functionality specific to itself, extending the behavior of the parent class.\n",
        "Hierarchical Relationship: Inheritance establishes an \"is-a\" relationship between the parent class and subclass, meaning that the subclass is a more specialized version of the parent class.\n",
        "Types of Inheritance:\n",
        "\n",
        "1.Single Inheritance\n",
        "\n",
        "2.Multiple Inheritance\n",
        "\n",
        "3.Multilevel Inheritance\n",
        "\n",
        "4.Hierarchical Inheritance\n",
        "\n",
        "5.Hybrid Inheritance\n",
        "\n",
        "Key Concepts in Inheritance:\n",
        "\n",
        "1.Overriding Methods:\n",
        "\n",
        "- A child class can provide its own implementation of a method that is already defined in the parent class. This is called method overriding. In the example above, the speak() method was overridden in the Dog class. 2.The super() Function:\n",
        "\n",
        "- The super() function is used to call methods from the parent class. It is especially useful for calling the constructor (init()) of the parent class when initializing the subclass. In the example above, super().init() is used to initialize the parent class’s name attribute in the child class. 3.The self Keyword:\n",
        "\n",
        "- The self keyword in Python refers to the instance of the class. It is used to access attributes and methods in both the parent and child classes."
      ],
      "metadata": {
        "id": "aMjX7tmtML5y"
      }
    },
    {
      "cell_type": "markdown",
      "source": [
        "Q7.What is polymorphism in OOP?\n",
        "\n",
        "Polymorphism is a key concept in Object-Oriented Programming (OOP) that allows objects of different classes to be treated as objects of a common superclass. The term polymorphism comes from Greek, meaning \"many shapes.\" It enables a single function or method to work with objects of different types, allowing for flexibility and extensibility in code.\n",
        "\n",
        "Key Features of Polymorphism:\n",
        "\n",
        "1.Method Overriding: A subclass can provide its own implementation of a method that is already defined in its parent class. This is known as method overriding.\n",
        "\n",
        "2.Method Overloading (in some languages): The ability to define multiple methods with the same name but different parameter lists. This is supported in languages like Java, but not in Python (though Python allows for flexibility with argument types).\n",
        "\n",
        "3.Dynamic Method Binding (Late Binding): In polymorphism, the method that gets called is determined at runtime based on the object type, not the reference type. Polymorphism enables code reusability, simplified code, and better maintainability, as it allows you to write more generic code that can work with objects of various classes.\n",
        "\n",
        "Types of Polymorphism:\n",
        "\n",
        "1. Compile-Time Polymorphism (Static Polymorphism):\n",
        "\n",
        "- This is resolved during the compilation process. Method overloading and operator overloading are examples of compile-time polymorphism.\n",
        "\n",
        "- Note: Python does not support compile-time polymorphism explicitly, as it is dynamically typed.\n",
        "\n",
        "2. Run-Time Polymorphism (Dynamic Polymorphism):\n",
        "\n",
        "This occurs at runtime, and is typically achieved through method overriding, where a method in a subclass overrides a method in the parent class. Python supports dynamic polymorphism using method overriding. Examples of Polymorphism in Python:\n",
        "\n",
        "1.Polymorphism with Method Overriding:\n",
        "\n",
        "2.Polymorphism with Method Overloading (Simulated in Python):\n",
        "While Python does not support traditional method overloading, we can simulate it by checking the types or the number of arguments passed to a method."
      ],
      "metadata": {
        "id": "zIg0Y-9AMW8Z"
      }
    },
    {
      "cell_type": "markdown",
      "source": [
        "Q8.How is encapsulation achieved in Python?\n",
        "\n",
        "Encapsulation is one of the core concepts of Object-Oriented Programming (OOP) and refers to the practice of bundling data (attributes) and methods (functions) that operate on the data into a single unit or class. It also involves restricting access to certain components of an object, usually to protect the object's integrity by preventing direct modification from outside. In Python, encapsulation is achieved using access control mechanisms that hide the internal state of objects and provide controlled access through methods.\n",
        "\n",
        "How Encapsulation is Achieved in Python:\n",
        "\n",
        "In Python, encapsulation is typically implemented using the following:\n",
        "\n",
        "\n",
        "1.Public Attributes and Methods:\n",
        "\n",
        "Attributes and methods that are meant to be accessible from outside the class are defined as public. By default, all attributes and methods are public in Python.\n",
        "Public attributes can be accessed directly from an object.\n",
        "\n",
        "2.Private Attributes and Methods:\n",
        "\n",
        "Private attributes and methods are defined by prefixing their names with double underscores (__). This is a convention in Python that helps to prevent accidental modification from outside the class.\n",
        "Private members are not directly accessible outside the class. Instead, they can be accessed and modified using getter and setter methods, which control access to the private data.\n",
        "\n",
        "3.Name Mangling:\n",
        "\n",
        "Python uses name mangling to make private attributes and methods harder to access directly from outside the class. When an attribute or method is prefixed with double underscores (__), Python internally changes the name of that attribute by adding _ClassName in front of the attribute name. This is done to avoid accidental name conflicts in subclasses.\n",
        "\n",
        "4.Protected Attributes and Methods:\n",
        "\n",
        "Python does not have a true \"protected\" keyword like some other OOP languages (e.g., Java). However, a convention is used to indicate that an attribute or method is protected by prefixing the name with a single underscore (_).\n",
        "Protected members are intended to be accessed only within the class and its subclasses. While this is not enforced by the language (i.e., it's just a convention), it indicates that these members should not be accessed directly from outside the class or subclass."
      ],
      "metadata": {
        "id": "n3oKqm6aNE2b"
      }
    },
    {
      "cell_type": "markdown",
      "source": [
        "Q9.What is a constructor in Python?\n",
        "\n",
        "In Python, a constructor is a special method used to initialize a newly created object. It is called automatically when a new instance of a class is created. The constructor method in Python is always named init().\n",
        "\n",
        "Key Points about Constructors in Python:\n",
        "\n",
        "1.Purpose: The primary purpose of a constructor is to set up the initial state of an object by initializing its attributes.\n",
        "\n",
        "2.Automatic Invocation: When an object of a class is created, the constructor is automatically called to initialize the object's state.\n",
        "\n",
        "3.Self Parameter: The constructor always takes at least one argument, which is conventionally named self. This self parameter refers to the instance of the object being created. Through self, the constructor can assign values to the instance's attributes.\n",
        "\n",
        "4.Syntax: The constructor is defined using the init method, and it is always called when an object of that class is instantiated."
      ],
      "metadata": {
        "id": "4lcBm1KaNR1O"
      }
    },
    {
      "cell_type": "markdown",
      "source": [
        "Q10.What are class and static methods in Python?\n",
        "\n",
        "In Python, class methods and static methods are two types of methods that belong to a class, but they differ in how they are called and what they operate on. Here's a detailed explanation of both:\n",
        "\n",
        "1. Class Method:\n",
        "\n",
        "A class method is a method that is bound to the class and not to the instance of the class. It can modify class state that applies across all instances of the class.\n",
        "\n",
        "- Syntax: A class method is defined using the @classmethod decorator.\n",
        "- First parameter: The first parameter of a class method is cls, which represents the class itself. This is similar to how instance methods use self to represent the instance of the class.\n",
        "\n",
        "Key Points about Class Methods:\n",
        "\n",
        "- They can access and modify class-level attributes.\n",
        "- They cannot access or modify instance-level attributes.\n",
        "- They are called on the class itself, not on instances of the class.\n",
        "\n",
        "\n",
        "2. Static Method:\n",
        "\n",
        "A static method is a method that does not take either a self or cls parameter. It behaves like a regular function, but it belongs to the class’s namespace. Static methods do not access or modify class-level or instance-level attributes. They are primarily used for utility functions that are related to the class but don't require access to any instance or class-specific data.\n",
        "\n",
        "- Syntax: A static method is defined using the @staticmethod decorator.\n",
        "- No self or cls parameter: Static methods do not take self or cls as their first parameter because they are not bound to the instance or class.\n",
        "\n",
        "Key Points about Static Methods:\n",
        "\n",
        "- They are independent of the class and instance.\n",
        "- They do not modify or access the class or instance state.\n",
        "- They can be called using the class name or an instance, but they are often called using the class name.\n",
        "\n",
        "When to Use Class Methods and Static Methods:\n",
        "\n",
        "- Class Methods:\n",
        "\n",
        "- Use when you need to operate on class-level data (i.e., data that is shared by all instances of the class).\n",
        "\n",
        "- They are useful for factory methods, where you create an instance of the class in a particular way.\n",
        "\n",
        "- You need to access or modify class-level variables, for example, altering the behavior of the class based on the current state of the class.\n",
        "\n",
        "Static Methods:\n",
        "\n",
        "- Use when you have a function that logically belongs to the class but doesn't need to access or modify class or instance attributes.\n",
        "- They are useful for utility functions that are related to the class but are independent of class or instance state."
      ],
      "metadata": {
        "id": "TTAeyNLONsxT"
      }
    },
    {
      "cell_type": "markdown",
      "source": [
        "Q11.What is method overloading in Python?\n",
        "\n",
        "In Python, method overloading refers to the ability to define multiple methods with the same name but with different argument signatures (i.e., different numbers or types of parameters). However, unlike some other programming languages (such as Java or C++), Python does not support traditional method overloading. In Python, you can define only one method with a given name, and if you define multiple methods with the same name, the last one defined will override the previous ones.\n",
        "\n",
        "\n",
        "How Python Handles Method Overloading:\n",
        "\n",
        "While Python does not support method overloading in the traditional sense, you can achieve similar behavior by using:\n",
        "\n",
        "1.Default Arguments: You can use default values for arguments so that a method can work with different numbers of arguments.\n",
        "\n",
        "2.Variable-Length Arguments: You can use *args and **kwargs to handle variable numbers of positional and keyword arguments, allowing a method to accept different kinds of input.\n",
        "\n",
        "3.Conditional Logic: You can implement custom logic inside the method to handle different types or numbers of arguments.\n",
        "\n",
        "\n"
      ],
      "metadata": {
        "id": "5zkLv8atOdJy"
      }
    },
    {
      "cell_type": "markdown",
      "source": [
        "Q12. What is method overriding in OOP?\n",
        "\n",
        "Method overriding is a concept in Object-Oriented Programming (OOP) where a subclass provides its own implementation of a method that is already defined in its superclass. The overriding method in the subclass has the same name, same parameters (signature), and typically changes or extends the behavior of the original method.\n",
        "\n",
        "Key Points about Method Overriding:\n",
        "\n",
        "1.Occurs in Inheritance: Method overriding happens when a subclass inherits from a superclass and provides a new definition of a method that is already defined in the superclass.\n",
        "\n",
        "2.Same Method Signature: The method in the subclass that overrides the superclass method must have the same name and parameters as the method in the superclass.\n",
        "\n",
        "3.Polymorphism: Method overriding is an example of polymorphism, where the method call is dynamically bound to the method in the subclass at runtime, rather than at compile time.\n",
        "\n",
        "4.Overriding vs. Overloading: Unlike method overloading, where you define methods with the same name but different parameters (number/type), method overriding involves redefining an existing method to provide different behavior.\n",
        "\n",
        "Why Method Overriding?\n",
        "\n",
        "- Customization: Method overriding allows subclasses to tailor or extend the behavior of inherited methods without changing the superclass's code.\n",
        "- Dynamic Polymorphism: It enables the use of the same method name but provides different implementations based on the object type (i.e., the actual class of the object, not the reference type).\n",
        "\n",
        "\n",
        "How Does Method Overriding Work?\n",
        "\n",
        "When a method is overridden in a subclass, the subclass's version of the method is called when invoked on an object of the subclass, even if the object is referenced by a variable of the superclass type. This is known as dynamic dispatch or runtime polymorphism.\n",
        "\n",
        "\n",
        "Rules for Method Overriding:\n",
        "\n",
        "1.Same Method Name: The method in the subclass must have the same name as the method in the superclass.\n",
        "\n",
        "2.Same Parameters (Signature): The method in the subclass must have the same parameters as the one in the superclass (this includes the number and type of arguments).\n",
        "\n",
        "3.Access Level: The overriding method in the subclass cannot have a more restrictive access level than the method in the superclass. For instance, if the superclass method is public, the subclass method should also be public.\n",
        "\n",
        "4.Use of super(): In some cases, the subclass may want to call the superclass's version of the overridden method. This can be done using the super() function."
      ],
      "metadata": {
        "id": "boE2YZnqOw4t"
      }
    },
    {
      "cell_type": "markdown",
      "source": [
        "Q13. What is a property decorator in Python?\n",
        "\n",
        "In Python, the property decorator is used to define a method as a getter for a property, allowing you to access it as if it were an attribute. This allows for controlled access to an instance's attributes, encapsulating the internal workings of the class while providing a clean, attribute-like interface to users of the class.\n",
        "\n",
        "Key Points About property Decorator:\n",
        "\n",
        "1.Getter Method: It is used to define a method that behaves like an attribute. It lets you get the value of an attribute but allows you to control what happens when the attribute is accessed.\n",
        "\n",
        "2.Setter and Deleter Methods: The property decorator can also be used to define setter and deleter methods, enabling control over setting or deleting an attribute.\n",
        "\n",
        "3.Encapsulation: Using the property decorator, you can encapsulate the internal state of an object while still providing access to its values, offering better control over how attributes are accessed or modified.\n",
        "\n",
        "Syntax of property Decorator:\n",
        "\n",
        "The property decorator is typically used in three parts:\n",
        "\n",
        "- Getter: Retrieves the value of a property.\n",
        "- Setter: Defines how the property should be set.\n",
        "- Deleter: Defines how the property should be deleted (optional).\n",
        "\n",
        "\n"
      ],
      "metadata": {
        "id": "DT0dW2q_PRdr"
      }
    },
    {
      "cell_type": "markdown",
      "source": [
        "Q14.Why is polymorphism important in OOP?\n",
        "\n",
        "Polymorphism is a core concept in Object-Oriented Programming (OOP) and plays a significant role in making the code more flexible, maintainable, and reusable. The term polymorphism comes from Greek, meaning \"many shapes\" or \"many forms.\" In OOP, polymorphism refers to the ability of different classes to provide a method or function with the same name but with different implementations. It allows objects of different types to be treated as objects of a common superclass, typically through a shared interface.\n",
        "\n",
        "Why is Polymorphism Important in OOP?\n",
        "\n",
        "1.Code Reusability: Polymorphism allows you to write more generic and reusable code. Instead of writing separate functions or methods for each type of object, you can use the same method name and allow different classes to implement it in their own way. This reduces redundancy and promotes code reuse.\n",
        "\n",
        "Example: A function can accept objects of different types (such as a Dog, Cat, or Bird) and invoke their make_sound method. The appropriate implementation for each type is called dynamically, allowing code to work with any animal without knowing the specific class.\n",
        "\n",
        "2.Extensibility and Maintainability: Polymorphism allows new classes to be added to a system without changing the existing code. As long as the new class adheres to the same interface (i.e., it implements the required method), the existing functions or methods will work with the new class. This makes the system more extensible and easier to maintain.\n",
        "\n",
        "Example: Adding a Bird class with the make_sound method doesn't require changing the existing animal_sound function. It will automatically support the new Bird type.\n",
        "\n",
        "3.Dynamic Method Dispatch: Polymorphism allows the appropriate method to be called based on the object's runtime type, not its reference type. This is also known as dynamic method dispatch or late binding. This behavior is a key aspect of runtime polymorphism (commonly seen in method overriding).\n",
        "\n",
        "Example: If you have a reference to a Bird object but treat it as an Animal, polymorphism ensures that the correct make_sound method is called based on the actual object type, not the reference type.\n",
        "\n",
        "4.Simplified Code: Polymorphism enables simpler, more readable, and less error-prone code. Instead of using long if or switch statements to decide which behavior to execute based on the type of the object, polymorphism allows you to call methods directly on objects and let the appropriate class handle the specifics.\n",
        "\n",
        "Example: Without polymorphism, you might have to check the object's type and then perform different actions. With polymorphism, the system automatically handles the correct behavior by calling the method on the object.\n",
        "\n",
        "5.Interface Consistency: Polymorphism helps ensure that objects of different classes can interact with one another in a consistent manner. As long as objects adhere to a common interface (e.g., they implement a common method), they can be used interchangeably. This leads to more predictable and uniform behavior across various parts of the codebase.\n",
        "\n",
        "6.Improved Code Flexibility: With polymorphism, objects can be passed around and manipulated without needing to know their exact class. This makes the code more flexible because you can write methods or functions that operate on objects of any class as long as they implement the required methods or properties.\n",
        "\n",
        "Example: A function that accepts objects of a general Shape class and calls the draw method will work for all types of shapes (Circle, Rectangle, Triangle, etc.) as long as they all implement draw.\n",
        "\n",
        "7.Enhanced Testing and Mocking: When polymorphism is used, objects can be easily replaced with mock objects during testing. For instance, you can substitute a Dog object with a mock object of the same class during testing to simulate behavior and test your code more easily"
      ],
      "metadata": {
        "id": "fi0x9kkIPast"
      }
    },
    {
      "cell_type": "markdown",
      "source": [
        "Q15.What is an abstract class in Python?\n",
        "\n",
        "In Python, an abstract class is a class that cannot be instantiated directly and is meant to be subclassed by other classes. It defines a common interface for its subclasses but may not implement all the methods itself. Instead, abstract methods are defined in the abstract class, and it is the responsibility of the subclass to provide the concrete implementation of those methods.\n",
        "\n",
        "Key Features of Abstract Classes:\n",
        "\n",
        "1.Cannot be Instantiated: You cannot create an object of an abstract class directly. You need to create a subclass that implements the abstract methods.\n",
        "\n",
        "2.Abstract Methods: An abstract class can contain abstract methods, which are methods that are declared in the abstract class but don't have any implementation. These must be implemented by any non-abstract subclass.\n",
        "\n",
        "3.Provides a Template: An abstract class serves as a template for subclasses, ensuring that they implement certain methods while allowing for flexibility in the implementation.\n",
        "\n",
        "4.Supports Inheritance: Abstract classes can be inherited by other classes, and these subclasses must implement the abstract methods defined in the abstract class (unless the subclass is also abstract).\n",
        "\n",
        "\n",
        "Creating an Abstract Class in Python:\n",
        "\n",
        "To create an abstract class, you use the abc (Abstract Base Class) module, which provides the infrastructure for defining abstract classes and methods.\n",
        "\n",
        "Here is the general approach:\n",
        "\n",
        "1.ABC class: Inherit from abc.ABC.\n",
        "\n",
        "2.@abstractmethod decorator: Use this decorator to mark a method as abstract.\n"
      ],
      "metadata": {
        "id": "DWWY8JJlPzG5"
      }
    },
    {
      "cell_type": "markdown",
      "source": [
        "Q16.What are the advantages of OOP?\n",
        "\n",
        "Object-Oriented Programming (OOP) offers several advantages that make it a popular and effective programming paradigm. Here are the key benefits:\n",
        "\n",
        "1. Modularity\n",
        "\n",
        "Description: In OOP, code is organized into discrete, self-contained units called objects or classes, which represent real-world entities or concepts.\n",
        "\n",
        "Advantage: This modularity makes it easier to manage and maintain large codebases, as each module can be developed, tested, and modified independently without affecting other parts of the program. Objects can be reused in different contexts, increasing code reusability.\n",
        "\n",
        "2. Reusability\n",
        "\n",
        "Description: OOP encourages the reuse of existing objects and code. Once a class is created, it can be reused in other programs or in other parts of the current program.\n",
        "\n",
        "Advantage: This reduces redundancy and promotes a more efficient development process. Inheritance and polymorphism allow for the extension of existing classes, which means you don't need to duplicate code for new functionality.\n",
        "\n",
        "3. Abstraction\n",
        "\n",
        "Description: OOP allows the creation of abstract classes and interfaces that hide complex implementation details and expose only essential features or behavior.\n",
        "\n",
        "Advantage: This simplifies the use of complex systems by allowing the programmer to work at a higher level of abstraction, focusing only on the relevant aspects. It also ensures that implementation details are hidden from the user and cannot be accidentally modified.\n",
        "\n",
        "4. Encapsulation\n",
        "\n",
        "Description: OOP promotes encapsulation, which is the practice of keeping data (attributes) and the methods that operate on the data (behavior) bundled together in a class.\n",
        "\n",
        "Advantage: Encapsulation allows for better control over the data and reduces the likelihood of accidental data corruption or misuse. It also provides an easy way to safeguard the integrity of the data, using getters and setters, or by using private and protected access modifiers.\n",
        "\n",
        "5. Inheritance\n",
        "\n",
        "Description: Inheritance allows one class (the subclass) to inherit the attributes and methods of another class (the superclass).\n",
        "\n",
        "Advantage: This promotes code reuse and allows for the creation of new classes that are extensions or modifications of existing classes, reducing redundancy in the codebase. It also allows you to create a hierarchy, which makes it easier to model real-world relationships.\n",
        "\n",
        "6. Polymorphism\n",
        "\n",
        "Description: Polymorphism allows different objects to respond to the same method call in a way that is appropriate to their own type. This can be achieved via method overriding (runtime polymorphism) or method overloading (compile-time polymorphism).\n",
        "\n",
        "Advantage: Polymorphism simplifies code by allowing you to call the same method on objects of different classes. It promotes flexibility and scalability, making it easier to extend or modify the system without changing the code that uses these objects."
      ],
      "metadata": {
        "id": "3sHX3P69QC4X"
      }
    },
    {
      "cell_type": "markdown",
      "source": [
        "Q17.What is the difference between a class variable and an instance variable?\n",
        "\n",
        "In Object-Oriented Programming (OOP), particularly in Python, class variables and instance variables are both used to store data, but they differ in terms of scope, behavior, and how they are accessed. Below is a detailed comparison of both:\n",
        "\n",
        "1. Class Variable\n",
        "\n",
        "- Definition: A class variable is a variable that is shared by all instances of the class. It is defined directly within the class, outside any instance methods (e.g., init), and it is accessible through both the class itself and its instances.\n",
        "\n",
        "- Scope: Class variables are shared by all objects (instances) of the class. Any change to a class variable affects all instances of that class.\n",
        "\n",
        "- Access: Class variables can be accessed by the class name or by instances of the class.\n",
        "\n",
        "- Usage: Class variables are typically used for values that are constant or need to be shared across all instances of the class.\n",
        "\n",
        "- Behavior: If a class variable is modified through an instance, it will only affect that instance's reference to the variable and not the class-level variable. To modify a class variable for all instances, you should modify it through the class itself.\n",
        "\n",
        "- Memory:Stored in memory once, shared by all instances.\n",
        "\n",
        "\n",
        "2. Instance Variable\n",
        "\n",
        "- Definition: An instance variable is a variable that is tied to a specific instance of the class. It is defined inside the init method and is unique to each instance of the class.\n",
        "\n",
        "- Scope: Instance variables are specific to each object. Every instance of a class can have different values for instance variables.\n",
        "\n",
        "- Access: Instance variables are accessed using the object (instance) of the class.\n",
        "\n",
        "- Usage: Instance variables store data that is unique to each object created from the class.\n",
        "\n",
        "- Memory: Each instance has its own separate copy of instance variables.\n",
        "\n",
        "- Behavior: Instance variables are unique to each object, and changes to an instance variable affect only that specific instance.\n",
        "\n",
        "\n",
        "\n",
        "Q18.What is multiple inheritance in Python?\n",
        "\n",
        "Multiple inheritance in Python refers to the concept where a class can inherit attributes and methods from more than one parent class. This allows a class to combine the behavior of multiple classes, thereby gaining functionalities from all the parent classes it inherits from.\n",
        "\n",
        "Key Features of Multiple Inheritance:\n",
        "\n",
        "1.Single Child Class, Multiple Parents: A child class can inherit from more than one base class (parent class). This means the child class will have access to the methods and properties of all the parent classes.\n",
        "\n",
        "2.Method Resolution Order (MRO): Python uses a method resolution order (MRO) to determine the order in which base classes are searched when invoking a method. This order is determined using the C3 linearization algorithm. The MRO is important when there are multiple inheritan\n",
        "\n",
        "Advantages of Multiple Inheritance:\n",
        "\n",
        "1.Code Reusability: It allows for combining functionalities of different classes, promoting reusability. You can mix and match behaviors from multiple classes, which can simplify the design of your application.\n",
        "\n",
        "2.Extensibility: If new features need to be added to a class, they can be done by inheriting from multiple classes that contain the new features, rather than rewriting the entire class.\n",
        "\n",
        "3.Real-World Modeling: Many real-world situations involve an entity that can exhibit behaviors from multiple sources. For instance, a FlyingCar could inherit from both Car and FlyingVehicle."
      ],
      "metadata": {
        "id": "K_hiyafTQMPO"
      }
    },
    {
      "cell_type": "markdown",
      "source": [
        "Q9.Explain the purpose of ‘’__str__’ and ‘__repr__’ ‘ methods in Python?\n",
        "\n",
        "In Python, the str and repr methods are special (dunder) methods used to define how an object is represented as a string when it is printed or converted to a string. Although they serve similar purposes, they are used in different contexts and have different expectations for the output.\n",
        "\n",
        "1. __str__ Method\n",
        "\n",
        "The str method is used to define a human-readable string representation of an object. It is called when you use the print() function or the str() function on an object. The goal of str is to return a string that is easy to read and presents the object in a friendly way.\n",
        "\n",
        "- Purpose: It provides a user-friendly string representation of the object for display purposes.\n",
        "- When it's used: When you call str(object) or use the print() function with an object.\n",
        "\n",
        "2. __repr__ Method\n",
        "\n",
        "The repr method is used to define a formal string representation of an object that could, in theory, be used to recreate the object. Its goal is to provide a representation that is unambiguous and can be useful for debugging or logging. This method is called when you use the repr() function or when you enter the object in an interactive session (e.g., in the Python shell).\n",
        "\n",
        "- Purpose: It provides a detailed or unambiguous string representation of the object, useful for debugging or logging.\n",
        "- When it's used: When you call repr(object) or when an object is displayed in an interactive shell.\n",
        "\n",
        "\n",
        "Q20.What is the significance of the ‘super()’ function in Python?\n",
        "\n",
        "The super() function in Python is used to call a method from a parent (or superclass) class in a child (or subclass) class. It is a built-in function that allows you to invoke methods from a parent class without explicitly referring to the parent class name. This is particularly useful in inheritance and method overriding, as it provides a way to access methods and properties of the parent class in the subclass.\n",
        "\n",
        "Significance and Uses of super():\n",
        "\n",
        "1.Access Parent Class Methods: The super() function allows a subclass to call a method of its superclass, ensuring that inherited functionality from the superclass is not overwritten. This is especially useful when you override a method in the subclass but still want to invoke the parent class's version of the method.\n",
        "\n",
        "2.Multiple Inheritance: In multiple inheritance scenarios, super() is used to handle method resolution order (MRO). It ensures that the methods from all parent classes are called in the correct order, avoiding conflicts and ambiguity.\n",
        "\n",
        "3.Avoid Hard-Coding Class Names: By using super(), you can avoid hardcoding the name of the parent class, making the code more maintainable and flexible, especially when the class hierarchy changes or when the code is refactored.\n",
        "\n",
        "4.Calling the Constructor of the Parent Class: In the context of inheritance, super() is commonly used to call the constructor (init) of the parent class from the child class, ensuring that the parent class is properly initialized when an object of the child class is created.\n",
        "\n",
        "\n"
      ],
      "metadata": {
        "id": "C_yQhfUAQlsB"
      }
    },
    {
      "cell_type": "markdown",
      "source": [
        "Q21.What is the significance of the __del__ method in Python?\n",
        "\n",
        "The del method in Python is a special (dunder) method that is used for object destruction or finalization. It is called when an object is about to be destroyed, which typically occurs when there are no more references to the object, and Python’s garbage collector frees the memory associated with it.\n",
        "\n",
        "Significance of __del__:\n",
        "\n",
        "1.Object Cleanup: The del method is useful when an object needs to clean up resources before it is destroyed. This is typically done when an object is holding onto resources like file handles, network connections, or database connections that need to be explicitly closed.\n",
        "\n",
        "2.Automatic Resource Management: By implementing the del method, you can ensure that necessary cleanup actions are performed automatically when an object goes out of scope or is garbage collected. This can help prevent resource leaks in applications that work with external resources.\n",
        "\n",
        "3.Custom Cleanup Logic: The del method provides a way for you to define custom logic to release or cleanup resources when the object is no longer needed.\n",
        "\n",
        "Important Points about __del__:\n",
        "\n",
        "1.Garbage Collection: The del method is invoked when an object is about to be destroyed by Python’s garbage collection mechanism. However, the timing of when garbage collection occurs can vary, and Python’s memory management does not guarantee exactly when del will be called.\n",
        "\n",
        "2.Circular References: If an object is part of a circular reference (i.e., two or more objects reference each other), Python’s garbage collector might not be able to detect the cycle immediately. As a result, the del method may not be called if the objects in the cycle cannot be properly garbage collected.\n",
        "\n",
        "Python’s garbage collector uses reference counting and cycle detection to clean up objects, but objects involved in cycles may be delayed in being destroyed.\n",
        "\n",
        "3.Exceptions in del: If an exception occurs within the del method, it is ignored, and Python does not raise an error. This means that you should avoid using del for critical cleanup that requires error handling.\n",
        "\n",
        "4.Avoid Using del for Resource Management: In modern Python programming, it is generally recommended to use context managers (with statement) and the enter and exit methods for managing resources like files or network connections, rather than relying solely on del. Context managers provide a more predictable and reliable way to manage resources, especially when exceptions occur.\n",
        "\n",
        "\n",
        "Q22. What is the difference between @staticmethod and @classmethod in Python?\n",
        "\n",
        "In Python, both @staticmethod and @classmethod are decorators used to define methods that are bound to the class, rather than an instance of the class. However, they differ in their behavior and the way they access class and instance-level data. Let's explore their differences:\n",
        "\n",
        "1. @staticmethod:\n",
        "\n",
        "- Purpose: A @staticmethod is used to define a method that does not require access to the instance (self) or the class (cls). It is just a regular function inside a class that happens to be grouped with the class.\n",
        "- Access: A static method cannot access or modify instance attributes or class attributes. It works like a plain function, but it belongs to the class for organizational purposes.\n",
        "- Binding: It is not bound to an instance or a class. You call it using the class or an instance, but it doesn't receive any special arguments like self or cls.\n",
        "\n",
        "2. @classmethod:\n",
        "\n",
        "- Purpose: A @classmethod is used to define a method that takes the class (cls) as its first argument, rather than an instance (self). This method can modify class-level attributes or call other class methods, but it cannot modify instance-level attributes directly.\n",
        "- Access: A class method can access and modify class attributes, but it cannot access or modify instance attributes unless it explicitly receives an instance as an argument.\n",
        "- Binding: It is bound to the class and can be called using either the class or an instance.\n",
        "\n",
        "Q23. How does polymorphism work in Python with inheritance?\n",
        "\n",
        "Polymorphism in Python, particularly with inheritance, refers to the ability of different classes to define methods that share the same name but have different behaviors. The core idea of polymorphism is that you can use a common interface (method name) across different classes, but the method implementations can vary depending on the class. This allows you to treat objects of different types in a uniform way while still preserving the ability to invoke different behaviors.\n",
        "\n",
        "In Python, polymorphism works through method overriding and dynamic method dispatch. When a subclass inherits from a superclass, it can override methods from the superclass to provide a specific implementation. At runtime, Python will call the correct method based on the object's actual class type, not the type of reference that holds the object.\n",
        "\n",
        "Key Points of Polymorphism in Python with Inheritance:\n",
        "\n",
        "1.Method Overriding: A subclass can override methods of the superclass to provide its own implementation.\n",
        "\n",
        "2.Dynamic Dispatch: Python determines which method to call based on the actual object type (not the reference type), enabling polymorphic behavior.\n",
        "\n",
        "\n",
        "\n",
        "Q24.What is method chaining in Python OOP?\n",
        "\n",
        "Method chaining in Python Object-Oriented Programming (OOP) is a programming technique where multiple methods are called on the same object in a single line of code. Each method returns the object itself (or another object that supports further method calls), allowing the next method to be called on the result.\n",
        "\n",
        "The key idea is that each method returns the object, so you can \"chain\" multiple method calls together in a single expression, leading to more concise and readable code.\n",
        "\n",
        "How Method Chaining Works:\n",
        "\n",
        "1.Returning self: In method chaining, each method typically returns the object itself (self), allowing you to call the next method on that object in the chain.\n",
        "\n",
        "2.Fluent Interface: This technique often results in a fluent interface, which allows for more readable code, especially when setting multiple properties or invoking multiple operations.\n",
        "\n",
        "Q25.What is the purpose of the __call__ method in Python?\n",
        "\n",
        "The call method in Python is a special (dunder) method that allows an instance of a class to be called like a function. When the call method is defined in a class, the instance of that class becomes callable. This means you can invoke an instance using parentheses, just like calling a regular function.\n",
        "\n",
        "Purpose of __call__:\n",
        "\n",
        "The purpose of call is to enable objects to behave like functions. This is useful when you want an object to perform a task or an operation when invoked in a functional way.\n",
        "\n",
        "How it Works:\n",
        "\n",
        "1.Defining call: To make an instance callable, you define the call method inside the class. This method takes the instance (self) as the first argument, just like any other method.\n",
        "\n",
        "2.Calling the Instance: Once call is implemented, you can invoke an instance of the class using parentheses, and it will trigger the call method.\n",
        "\n",
        "3.Arguments: You can pass arguments to the call method when calling the instance, and the method can accept them as parameters.\n",
        "\n",
        "\n",
        "Use Cases for __call__:\n",
        "\n",
        "1.Function Objects: You might want to create an object that behaves like a function. The call method allows you to encapsulate behavior within an object while still making it callable.\n",
        "\n",
        "2.Decorators: Some decorators are implemented using the call method, where the decorator object itself is called to modify the behavior of functions.\n",
        "\n",
        "3.Flexible Functionality: The call method can allow objects to have customizable behavior when invoked, for example, to perform calculations, modify internal state, or trigger an action based on arguments passed during the call."
      ],
      "metadata": {
        "id": "81i0fGVERU38"
      }
    },
    {
      "cell_type": "markdown",
      "source": [
        "**Practical Questions**"
      ],
      "metadata": {
        "id": "HgXWvrMPSDwq"
      }
    },
    {
      "cell_type": "markdown",
      "source": [
        "**Q1. Create a parent class Animal with a method speak() that prints a generic message. Create a child class Dog that overrides the speak() method to print \"Bark!\"**"
      ],
      "metadata": {
        "id": "QsKh0k-gSLKQ"
      }
    },
    {
      "cell_type": "code",
      "source": [
        "# Parent class Animal\n",
        "class Animal:\n",
        "    def speak(self):\n",
        "        print(\"Animal makes a sound\")\n",
        "\n",
        "# Child class Dog that overrides the speak() method\n",
        "class Dog(Animal):\n",
        "    def speak(self):\n",
        "        print(\"Bark!\")\n",
        "\n",
        "# Creating an instance of the Animal class\n",
        "animal = Animal()\n",
        "animal.speak()  # Output: Animal makes a sound\n",
        "\n",
        "# Creating an instance of the Dog class\n",
        "dog = Dog()\n",
        "dog.speak()  # Output: Bark!"
      ],
      "metadata": {
        "colab": {
          "base_uri": "https://localhost:8080/"
        },
        "id": "oZbZjc6NSQ2A",
        "outputId": "f7dc7996-ac0e-4f22-eb55-93157609eed4"
      },
      "execution_count": 2,
      "outputs": [
        {
          "output_type": "stream",
          "name": "stdout",
          "text": [
            "Animal makes a sound\n",
            "Bark!\n"
          ]
        }
      ]
    },
    {
      "cell_type": "markdown",
      "source": [
        "**Q2. Write a program to create an abstract class Shape with a method area(). Derive classes Circle and Rectangle from it and implement the area() method in both.**"
      ],
      "metadata": {
        "id": "fPN82Gv3SQZP"
      }
    },
    {
      "cell_type": "code",
      "source": [
        "from abc import ABC, abstractmethod\n",
        "import math\n",
        "\n",
        "# Abstract class Shape\n",
        "class Shape(ABC):\n",
        "    @abstractmethod\n",
        "    def area(self):\n",
        "        pass\n",
        "\n",
        "# Derived class Circle\n",
        "class Circle(Shape):\n",
        "    def __init__(self, radius):\n",
        "        self.radius = radius\n",
        "\n",
        "    def area(self):\n",
        "        return math.pi * self.radius ** 2\n",
        "\n",
        "# Derived class Rectangle\n",
        "class Rectangle(Shape):\n",
        "    def __init__(self, width, height):\n",
        "        self.width = width\n",
        "        self.height = height\n",
        "\n",
        "    def area(self):\n",
        "        return self.width * self.height\n",
        "\n",
        "# Creating instances of Circle and Rectangle and calculating their area\n",
        "circle = Circle(5)\n",
        "rectangle = Rectangle(4, 6)\n",
        "\n",
        "print(f\"Area of the circle: {circle.area():.2f}\")  # Output: Area of the circle: 78.54\n",
        "print(f\"Area of the rectangle: {rectangle.area()}\")  # Output: Area of the rectangle: 24\n"
      ],
      "metadata": {
        "colab": {
          "base_uri": "https://localhost:8080/"
        },
        "id": "7XEsvfGZSbAD",
        "outputId": "ecb813e8-d3e3-4ba7-defa-6ac4ea72e6cc"
      },
      "execution_count": 3,
      "outputs": [
        {
          "output_type": "stream",
          "name": "stdout",
          "text": [
            "Area of the circle: 78.54\n",
            "Area of the rectangle: 24\n"
          ]
        }
      ]
    },
    {
      "cell_type": "markdown",
      "source": [
        "**Q3. Implement a multi-level inheritance scenario where a class Vehicle has an attribute type. Derive a class Car and further derive a class ElectricCar that adds a battery attribute.**"
      ],
      "metadata": {
        "id": "4kH7cU0xSgqw"
      }
    },
    {
      "cell_type": "code",
      "source": [
        "# Base class Vehicle\n",
        "class Vehicle:\n",
        "    def __init__(self, type):\n",
        "        self.type = type\n",
        "\n",
        "    def display_type(self):\n",
        "        print(f\"Vehicle type: {self.type}\")\n",
        "\n",
        "# Derived class Car\n",
        "class Car(Vehicle):\n",
        "    def __init__(self, type, brand):\n",
        "        # Calling the constructor of the parent class (Vehicle)\n",
        "        super().__init__(type)\n",
        "        self.brand = brand\n",
        "\n",
        "    def display_brand(self):\n",
        "        print(f\"Car brand: {self.brand}\")\n",
        "\n",
        "# Further derived class ElectricCar\n",
        "class ElectricCar(Car):\n",
        "    def __init__(self, type, brand, battery_capacity):\n",
        "        # Calling the constructor of the parent class (Car)\n",
        "        super().__init__(type, brand)\n",
        "        self.battery_capacity = battery_capacity\n",
        "\n",
        "    def display_battery(self):\n",
        "        print(f\"Battery capacity: {self.battery_capacity} kWh\")\n",
        "\n",
        "# Create an instance of ElectricCar\n",
        "electric_car = ElectricCar(\"Electric\", \"Tesla\", 75)\n",
        "\n",
        "# Accessing attributes and methods from all levels of the inheritance hierarchy\n",
        "electric_car.display_type()  # Vehicle method\n",
        "electric_car.display_brand()  # Car method\n",
        "electric_car.display_battery()  # ElectricCar method\n",
        "\n",
        ""
      ],
      "metadata": {
        "colab": {
          "base_uri": "https://localhost:8080/"
        },
        "id": "CFziSnikSgTh",
        "outputId": "7b7a2696-dc9a-42dd-abae-f13d63f751f5"
      },
      "execution_count": 4,
      "outputs": [
        {
          "output_type": "stream",
          "name": "stdout",
          "text": [
            "Vehicle type: Electric\n",
            "Car brand: Tesla\n",
            "Battery capacity: 75 kWh\n"
          ]
        }
      ]
    },
    {
      "cell_type": "markdown",
      "source": [
        "**Q4. Implement a multi-level inheritance scenario where a class Vehicle has an attribute type. Derive a class Car and further derive a class ElectricCar that adds a battery attribute.**"
      ],
      "metadata": {
        "id": "_FEACletSuIB"
      }
    },
    {
      "cell_type": "code",
      "source": [
        "# Base class Vehicle\n",
        "class Vehicle:\n",
        "    def __init__(self, type):\n",
        "        self.type = type  # Vehicle type (e.g., car, truck, etc.)\n",
        "\n",
        "    def display_type(self):\n",
        "        print(f\"Vehicle type: {self.type}\")\n",
        "\n",
        "# Derived class Car\n",
        "class Car(Vehicle):\n",
        "    def __init__(self, type, brand):\n",
        "        # Calling the constructor of the parent class (Vehicle)\n",
        "        super().__init__(type)\n",
        "        self.brand = brand  # Car brand (e.g., Toyota, Tesla, etc.)\n",
        "\n",
        "    def display_brand(self):\n",
        "        print(f\"Car brand: {self.brand}\")\n",
        "\n",
        "# Further derived class ElectricCar\n",
        "class ElectricCar(Car):\n",
        "    def __init__(self, type, brand, battery_capacity):\n",
        "        # Calling the constructor of the parent class (Car)\n",
        "        super().__init__(type, brand)\n",
        "        self.battery_capacity = battery_capacity  # Battery capacity (e.g., 75 kWh)\n",
        "\n",
        "    def display_battery(self):\n",
        "        print(f\"Battery capacity: {self.battery_capacity} kWh\")\n",
        "\n",
        "# Creating an instance of ElectricCar\n",
        "electric_car = ElectricCar(\"Electric\", \"Tesla\", 75)\n",
        "\n",
        "# Accessing methods from all levels of the inheritance hierarchy\n",
        "electric_car.display_type()      # Veh\n",
        "\n",
        ""
      ],
      "metadata": {
        "colab": {
          "base_uri": "https://localhost:8080/"
        },
        "id": "PdLf3QU7Selg",
        "outputId": "c2472c13-c178-42a2-a1ce-2a05eacc9b48"
      },
      "execution_count": 5,
      "outputs": [
        {
          "output_type": "stream",
          "name": "stdout",
          "text": [
            "Vehicle type: Electric\n"
          ]
        }
      ]
    },
    {
      "cell_type": "markdown",
      "source": [
        "**Q5.Write a program to demonstrate encapsulation by creating a class BankAccount with private attributes balance and methods to deposit, withdraw, and check balance.**"
      ],
      "metadata": {
        "id": "_i1uIC28S7zT"
      }
    },
    {
      "cell_type": "code",
      "source": [
        "class BankAccount:\n",
        "    def __init__(self, initial_balance=0):\n",
        "        # Private attribute __balance\n",
        "        self.__balance = initial_balance\n",
        "\n",
        "    # Public method to deposit money\n",
        "    def deposit(self, amount):\n",
        "        if amount > 0:\n",
        "            self.__balance += amount\n",
        "            print(f\"Deposited {amount}. New balance is {self.__balance}.\")\n",
        "        else:\n",
        "            print(\"Deposit amount must be positive.\")\n",
        "\n",
        "    # Public method to withdraw money\n",
        "    def withdraw(self, amount):\n",
        "        if amount > 0 and amount <= self.__balance:\n",
        "            self.__balance -= amount\n",
        "            print(f\"Withdrew {amount}. New balance is {self.__balance}.\")\n",
        "        else:\n",
        "            print(\"Insufficient funds or invalid amount.\")\n",
        "\n",
        "    # Public method to check the balance\n",
        "    def check_balance(self):\n",
        "        return self.__balance\n",
        "\n",
        "# Example usage\n",
        "account = BankAccount(100)  # Create an account with an initial balance of 100\n",
        "\n",
        "# Checking the balance\n",
        "print(f\"Initial balance: {account.check_balance()}\")\n",
        "\n",
        "# Depositing money\n",
        "account.deposit(50)  # Deposit 50\n",
        "\n",
        "# Withdrawing money\n",
        "account.withdraw(30)  # Withdraw 30\n",
        "\n",
        "# Trying to withdraw more than the balance\n",
        "account.withdraw(200)  # Insufficient funds\n",
        "\n",
        "# Checking the final balance\n",
        "print(f\"Final balance: {account.check_balance()}\")\n",
        "\n",
        ""
      ],
      "metadata": {
        "colab": {
          "base_uri": "https://localhost:8080/"
        },
        "id": "yNItVsatS3-I",
        "outputId": "f8d018bb-98a8-4c4b-ae79-3ce28cc88c2d"
      },
      "execution_count": 7,
      "outputs": [
        {
          "output_type": "stream",
          "name": "stdout",
          "text": [
            "Initial balance: 100\n",
            "Deposited 50. New balance is 150.\n",
            "Withdrew 30. New balance is 120.\n",
            "Insufficient funds or invalid amount.\n",
            "Final balance: 120\n"
          ]
        }
      ]
    },
    {
      "cell_type": "markdown",
      "source": [
        "**Q6.Demonstrate runtime polymorphism using a method play() in a base class Instrument. Derive classes Guitar and Piano that implement their own version of play().**"
      ],
      "metadata": {
        "id": "ApLDhM-nTJQw"
      }
    },
    {
      "cell_type": "code",
      "source": [
        "# Base class Instrument\n",
        "class Instrument:\n",
        "    def play(self):\n",
        "        print(\"The instrument is playing.\")\n",
        "\n",
        "# Derived class Guitar\n",
        "class Guitar(Instrument):\n",
        "    def play(self):\n",
        "        print(\"The guitar is playing: Strum strum!\")\n",
        "\n",
        "# Derived class Piano\n",
        "class Piano(Instrument):\n",
        "    def play(self):\n",
        "        print(\"The piano is playing: Ding ding!\")\n",
        "\n",
        "# Function to demonstrate polymorphism\n",
        "def demonstrate_polymorphism(instrument: Instrument):\n",
        "    instrument.play()\n",
        "\n",
        "# Creating objects of Guitar and Piano\n",
        "guitar = Guitar()\n",
        "piano = Piano()\n",
        "\n",
        "# Demonstrating runtime polymorphism\n",
        "demonstrate_polymorphism(guitar)  # Output: The guitar is playing: Strum strum!\n",
        "demonstrate_polymorphism(piano)   # Output: The piano is playing: Ding ding!\n"
      ],
      "metadata": {
        "colab": {
          "base_uri": "https://localhost:8080/"
        },
        "id": "mYqaSRzHTEDa",
        "outputId": "72466327-bfd0-4fe0-fe86-4380bf3c5ccb"
      },
      "execution_count": 8,
      "outputs": [
        {
          "output_type": "stream",
          "name": "stdout",
          "text": [
            "The guitar is playing: Strum strum!\n",
            "The piano is playing: Ding ding!\n"
          ]
        }
      ]
    },
    {
      "cell_type": "markdown",
      "source": [
        "**Q7.Create a class MathOperations with a class method add_numbers() to add two numbers and a static method subtract_numbers() to subtract two numbers.**"
      ],
      "metadata": {
        "id": "CfR7PEM3TRzl"
      }
    },
    {
      "cell_type": "code",
      "source": [
        "class MathOperations:\n",
        "    # Class method to add two numbers\n",
        "    @classmethod\n",
        "    def add_numbers(cls, num1, num2):\n",
        "        result = num1 + num2\n",
        "        print(f\"Sum: {result}\")\n",
        "        return result\n",
        "\n",
        "    # Static method to subtract two numbers\n",
        "    @staticmethod\n",
        "    def subtract_numbers(num1, num2):\n",
        "        result = num1 - num2\n",
        "        print(f\"Difference: {result}\")\n",
        "        return result\n",
        "\n",
        "# Demonstrating the usage of class method and static method\n",
        "\n",
        "# Using the class method add_numbers (bound to the class)\n",
        "MathOperations.add_numbers(10, 5)\n",
        "\n",
        "# Using the static method subtract_numbers (can be called without creating an object)\n",
        "MathOperations.subtract_numbers(10, 5)\n",
        "\n"
      ],
      "metadata": {
        "colab": {
          "base_uri": "https://localhost:8080/"
        },
        "id": "cGE6huGQTQ1Q",
        "outputId": "4b9f38dd-3796-41b1-9400-4db8bc43459d"
      },
      "execution_count": 9,
      "outputs": [
        {
          "output_type": "stream",
          "name": "stdout",
          "text": [
            "Sum: 15\n",
            "Difference: 5\n"
          ]
        },
        {
          "output_type": "execute_result",
          "data": {
            "text/plain": [
              "5"
            ]
          },
          "metadata": {},
          "execution_count": 9
        }
      ]
    },
    {
      "cell_type": "markdown",
      "source": [
        "**Q8. Implement a class Person with a class method to count the total number of persons created**"
      ],
      "metadata": {
        "id": "L5sDqbVmTXxc"
      }
    },
    {
      "cell_type": "code",
      "source": [
        "class Person:\n",
        "    # Class variable to track the total number of persons\n",
        "    total_persons = 0\n",
        "\n",
        "    def __init__(self, name, age):\n",
        "        self.name = name\n",
        "        self.age = age\n",
        "        # Every time a new person is created, increment the total_persons counter\n",
        "        Person.total_persons += 1\n",
        "\n",
        "    # Class method to get the total number of persons created\n",
        "    @classmethod\n",
        "    def count_persons(cls):\n",
        "        print(f\"Total persons created: {cls.total_persons}\")\n",
        "        return cls.total_persons\n",
        "\n",
        "# Example usage\n",
        "\n",
        "# Creating Person objects\n",
        "person1 = Person(\"Alice\", 30)\n",
        "person2 = Person(\"Bob\", 25)\n",
        "person3 = Person(\"Charlie\", 35)\n",
        "\n",
        "# Using the class method to get the total number of persons\n",
        "Person.count_persons()  # Output: Total persons created: 3\n",
        "\n"
      ],
      "metadata": {
        "colab": {
          "base_uri": "https://localhost:8080/"
        },
        "id": "dTRJEfjFTWwQ",
        "outputId": "34a715ee-c463-4def-c64b-94fae62b0523"
      },
      "execution_count": 10,
      "outputs": [
        {
          "output_type": "stream",
          "name": "stdout",
          "text": [
            "Total persons created: 3\n"
          ]
        },
        {
          "output_type": "execute_result",
          "data": {
            "text/plain": [
              "3"
            ]
          },
          "metadata": {},
          "execution_count": 10
        }
      ]
    },
    {
      "cell_type": "markdown",
      "source": [
        "**Q9.Write a class Fraction with attributes numerator and denominator. Override the str method to display the fraction as \"numerator/denominator\".**"
      ],
      "metadata": {
        "id": "Ey_vn1C9Teqw"
      }
    },
    {
      "cell_type": "code",
      "source": [
        "class Fraction:\n",
        "    def __init__(self, numerator, denominator):\n",
        "        if denominator == 0:\n",
        "            raise ValueError(\"Denominator cannot be zero\")\n",
        "        self.numerator = numerator\n",
        "        self.denominator = denominator\n",
        "\n",
        "    # Override __str__ method to return the fraction in the format \"numerator/denominator\"\n",
        "    def __str__(self):\n",
        "        return f\"{self.numerator}/{self.denominator}\"\n",
        "\n",
        "# Example usage\n",
        "fraction1 = Fraction(3, 4)\n",
        "fraction2 = Fraction(5, 6)\n",
        "\n",
        "# Printing the fractions\n",
        "print(fraction1)  # Output: 3/4\n",
        "print(fraction2)  # Output: 5/6"
      ],
      "metadata": {
        "colab": {
          "base_uri": "https://localhost:8080/"
        },
        "id": "cxxthL6KTdmK",
        "outputId": "bfa4161d-8b8a-4c5c-c466-80b3c32791d6"
      },
      "execution_count": 11,
      "outputs": [
        {
          "output_type": "stream",
          "name": "stdout",
          "text": [
            "3/4\n",
            "5/6\n"
          ]
        }
      ]
    },
    {
      "cell_type": "markdown",
      "source": [
        "**Q10. Demonstrate operator overloading by creating a class Vector and overriding the add method to add two vectors.**"
      ],
      "metadata": {
        "id": "EAQM9qD2TmME"
      }
    },
    {
      "cell_type": "code",
      "source": [
        "class Vector:\n",
        "    def __init__(self, x, y):\n",
        "        self.x = x\n",
        "        self.y = y\n",
        "\n",
        "    # Overloading the + operator using __add__ method\n",
        "    def __add__(self, other):\n",
        "        # Adding corresponding components of the vectors\n",
        "        return Vector(self.x + other.x, self.y + other.y)\n",
        "\n",
        "    # Method to represent the vector as a string for easy printing\n",
        "    def __str__(self):\n",
        "        return f\"({self.x}, {self.y})\"\n",
        "\n",
        "# Example usage\n",
        "vector1 = Vector(2, 3)\n",
        "vector2 = Vector(4, 1)\n",
        "\n",
        "# Adding two vectors using the overloaded + operator\n",
        "result_vector = vector1 + vector2\n",
        "\n",
        "# Printing the result of vector addition\n",
        "print(f\"Vector1: {vector1}\")\n",
        "print(f\"Vector2: {vector2}\")\n",
        "print(f\"Result of addition: {result_vector}\")\n"
      ],
      "metadata": {
        "colab": {
          "base_uri": "https://localhost:8080/"
        },
        "id": "BFdo8E7PTjvw",
        "outputId": "44c84778-9b21-43e4-b4c6-9c18b69b9cf1"
      },
      "execution_count": 12,
      "outputs": [
        {
          "output_type": "stream",
          "name": "stdout",
          "text": [
            "Vector1: (2, 3)\n",
            "Vector2: (4, 1)\n",
            "Result of addition: (6, 4)\n"
          ]
        }
      ]
    },
    {
      "cell_type": "markdown",
      "source": [
        "**Q11.Create a class Person with attributes name and age. Add a method greet() that prints \"Hello, my name is {name} and I am {age} years old.\"**"
      ],
      "metadata": {
        "id": "2cjNkmQpTq4R"
      }
    },
    {
      "cell_type": "code",
      "source": [
        "class Person:\n",
        "    def __init__(self, name, age):\n",
        "        # Initialize the attributes name and age\n",
        "        self.name = name\n",
        "        self.age = age\n",
        "\n",
        "    def greet(self):\n",
        "        # Print the greeting message\n",
        "        print(f\"Hello, my name is {self.name} and I am {self.age} years old.\")\n",
        "\n",
        "# Example usage\n",
        "person1 = Person(\"Alice\", 30)\n",
        "person2 = Person(\"Bob\", 25)\n",
        "\n",
        "# Calling the greet method on the instances\n",
        "person1.greet()  # Output: Hello, my name is Alice and I am 30 years old.\n",
        "person2.greet()  # Output: Hello, my name is Bob and I am 25 years old.\n"
      ],
      "metadata": {
        "colab": {
          "base_uri": "https://localhost:8080/"
        },
        "id": "EsAp-II1TpaF",
        "outputId": "bc576dfa-2da5-4bee-f04a-7d40fb8643ab"
      },
      "execution_count": 13,
      "outputs": [
        {
          "output_type": "stream",
          "name": "stdout",
          "text": [
            "Hello, my name is Alice and I am 30 years old.\n",
            "Hello, my name is Bob and I am 25 years old.\n"
          ]
        }
      ]
    },
    {
      "cell_type": "markdown",
      "source": [
        "**Q12. Implement a class Student with attributes name and grades. Create a method average_grade() to compute the average of the grades.**"
      ],
      "metadata": {
        "id": "6x1wifTlTvqA"
      }
    },
    {
      "cell_type": "code",
      "source": [
        "class Student:\n",
        "    def __init__(self, name, grades):\n",
        "        self.name = name\n",
        "        self.grades = grades\n",
        "\n",
        "    def average_grade(self):\n",
        "        # Check if the list of grades is empty to avoid division by zero\n",
        "        if len(self.grades) == 0:\n",
        "            return \"No grades available\"\n",
        "        return sum(self.grades) / len(self.grades)\n",
        "\n",
        "# Example usage\n",
        "student1 = Student(\"Alice\", [90, 85, 88, 92])\n",
        "student2 = Student(\"Bob\", [78, 82, 85])\n",
        "\n",
        "# Calling the average_grade method on the instances\n",
        "print(f\"{student1.name}'s average grade: {student1.average_grade()}\")  # Output: Alice's average grade: 88.75\n",
        "print(f\"{student2.name}'s average grade: {student2.average_grade()}\")  # Output: Bob's average grade: 81.66666666666667\n"
      ],
      "metadata": {
        "colab": {
          "base_uri": "https://localhost:8080/"
        },
        "id": "1OfikJOdT6NL",
        "outputId": "a8714d72-e4c0-4c17-fd50-d119d600f6be"
      },
      "execution_count": 20,
      "outputs": [
        {
          "output_type": "stream",
          "name": "stdout",
          "text": [
            "Alice's average grade: 88.75\n",
            "Bob's average grade: 81.66666666666667\n"
          ]
        }
      ]
    },
    {
      "cell_type": "markdown",
      "source": [
        "**Q13. Create a class Rectangle with methods set_dimensions() to set the dimensions and area() to calculate the area.**"
      ],
      "metadata": {
        "id": "cQ2MkEUMUAXA"
      }
    },
    {
      "cell_type": "code",
      "source": [
        "class Rectangle:\n",
        "    def __init__(self):\n",
        "        # Initializing the length and width to None, they will be set later\n",
        "        self.length = None\n",
        "        self.width = None\n",
        "\n",
        "    # Method to set the dimensions of the rectangle\n",
        "    def set_dimensions(self, length, width):\n",
        "        self.length = length\n",
        "        self.width = width\n",
        "\n",
        "    # Method to calculate the area of the rectangle\n",
        "    def area(self):\n",
        "        if self.length is None or self.width is None:\n",
        "            return \"Dimensions not set.\"\n",
        "        return self.length * self.width\n",
        "\n",
        "# Example usage\n",
        "rect = Rectangle()\n",
        "\n",
        "# Setting the dimensions of the rectangle\n",
        "rect.set_dimensions(5, 3)\n",
        "\n",
        "# Calculating and printing the area of the rectangle\n",
        "print(f\"Area of the rectangle: {rect.area()}\")  # Output: Area of the rectangle: 15\n",
        "\n",
        "# Example where dimensions are not set\n",
        "rect2 = Rectangle()\n",
        "print(f\"Area of the second rectangle: {rect2.area()}\")  # Output: Dimensions not set.\n"
      ],
      "metadata": {
        "colab": {
          "base_uri": "https://localhost:8080/"
        },
        "id": "U7BGD7gHT997",
        "outputId": "954b6564-d85e-48f7-a1eb-b99bf9168bb5"
      },
      "execution_count": 21,
      "outputs": [
        {
          "output_type": "stream",
          "name": "stdout",
          "text": [
            "Area of the rectangle: 15\n",
            "Area of the second rectangle: Dimensions not set.\n"
          ]
        }
      ]
    },
    {
      "cell_type": "markdown",
      "source": [
        "**Q14.Create a class Employee with a method calculate_salary() that computes the salary based on hours worked and hourly rate. Create a derived class Manager that adds a bonus to the salary**"
      ],
      "metadata": {
        "id": "IyI2WDnAUHB2"
      }
    },
    {
      "cell_type": "code",
      "source": [
        "class Employee:\n",
        "    def __init__(self, name, hours_worked, hourly_rate):\n",
        "        self.name = name\n",
        "        self.hours_worked = hours_worked\n",
        "        self.hourly_rate = hourly_rate\n",
        "\n",
        "    def calculate_salary(self):\n",
        "        return self.hours_worked * self.hourly_rate\n",
        "\n",
        "\n",
        "class Manager(Employee):\n",
        "    def __init__(self, name, hours_worked, hourly_rate, bonus):\n",
        "        super().__init__(name, hours_worked, hourly_rate)\n",
        "        self.bonus = bonus\n",
        "\n",
        "    def calculate_salary(self):\n",
        "        base_salary = super().calculate_salary()\n",
        "        return base_salary + self.bonus\n",
        "\n",
        "\n",
        "# Example usage\n",
        "employee = Employee(\"John Doe\", 40, 20)  # 40 hours worked at $20/hour\n",
        "print(f\"Employee's Salary: ${employee.calculate_salary()}\")\n",
        "\n",
        "manager = Manager(\"Jane Smith\", 40, 25, 500)  # 40 hours worked at $25/hour with $500 bonus\n",
        "print(f\"Manager's Salary: ${manager.calculate_salary()}\")"
      ],
      "metadata": {
        "colab": {
          "base_uri": "https://localhost:8080/"
        },
        "id": "lhhth1_-WYJl",
        "outputId": "a953d4d2-b1d6-4525-b8fd-4ee2af6de3d4"
      },
      "execution_count": 29,
      "outputs": [
        {
          "output_type": "stream",
          "name": "stdout",
          "text": [
            "Employee's Salary: $800\n",
            "Manager's Salary: $1500\n"
          ]
        }
      ]
    },
    {
      "cell_type": "markdown",
      "source": [
        "**Q15. Create a class Product with attributes name, price, and quantity. Implement a method total_price() that calculates the total price of the product.**"
      ],
      "metadata": {
        "id": "bXWbvkpxW0GT"
      }
    },
    {
      "cell_type": "code",
      "source": [
        "class Product:\n",
        "    def __init__(self, name, price, quantity):\n",
        "        # Initialize the product with name, price, and quantity\n",
        "        self.name = name\n",
        "        self.price = price\n",
        "        self.quantity = quantity\n",
        "\n",
        "    def total_price(self):\n",
        "        # Calculate the total price by multiplying price and quantity\n",
        "        return self.price * self.quantity\n",
        "\n",
        "# Example usage\n",
        "product1 = Product(\"Laptop\", 1000, 2)\n",
        "product2 = Product(\"Headphones\", 50, 5)\n",
        "\n",
        "# Calculating and printing the total price of each product\n",
        "print(f\"Total price of {product1.name}: ${product1.total_price()}\")  # Output: Total price of Laptop: $2000\n",
        "print(f\"Total price of {product2.name}: ${product2.total_price()}\")  # Output: Total price of Headphones: $250\n",
        "\n"
      ],
      "metadata": {
        "colab": {
          "base_uri": "https://localhost:8080/"
        },
        "id": "kIWt9DzqWwAB",
        "outputId": "542d997c-32f1-430e-97d7-19bc1fc9181d"
      },
      "execution_count": 30,
      "outputs": [
        {
          "output_type": "stream",
          "name": "stdout",
          "text": [
            "Total price of Laptop: $2000\n",
            "Total price of Headphones: $250\n"
          ]
        }
      ]
    },
    {
      "cell_type": "markdown",
      "source": [
        "**Q16. Create a class Animal with an abstract method sound(). Create two derived classes Cow and Sheep that implement the sound() method.**"
      ],
      "metadata": {
        "id": "VDzYlRGxW9Ig"
      }
    },
    {
      "cell_type": "code",
      "source": [
        "from abc import ABC, abstractmethod\n",
        "\n",
        "# Abstract Base Class Animal\n",
        "class Animal(ABC):\n",
        "    @abstractmethod\n",
        "    def sound(self):\n",
        "        pass\n",
        "\n",
        "# Derived class Cow that implements sound()\n",
        "class Cow(Animal):\n",
        "    def sound(self):\n",
        "        return \"Moo\"\n",
        "\n",
        "# Derived class Sheep that implements sound()\n",
        "class Sheep(Animal):\n",
        "    def sound(self):\n",
        "        return \"Baa\"\n",
        "\n",
        "# Example usage\n",
        "cow = Cow()\n",
        "sheep = Sheep()\n",
        "\n",
        "# Calling the sound method for each animal\n",
        "print(f\"Cow makes sound: {cow.sound()}\")  # Output: Cow makes sound: Moo\n",
        "print(f\"Sheep makes sound: {sheep.sound()}\")  # Output: Sheep makes sound: Baa\n",
        "\n",
        ""
      ],
      "metadata": {
        "colab": {
          "base_uri": "https://localhost:8080/"
        },
        "id": "FZ_ZqWoCW4bL",
        "outputId": "6a6dd758-c67c-473b-94dc-66df101ddeda"
      },
      "execution_count": 31,
      "outputs": [
        {
          "output_type": "stream",
          "name": "stdout",
          "text": [
            "Cow makes sound: Moo\n",
            "Sheep makes sound: Baa\n"
          ]
        }
      ]
    },
    {
      "cell_type": "markdown",
      "source": [
        "**Q17.Create a class Book with attributes title, author, and year_published. Add a method get_book_info() that returns a formatted string with the book's details.**"
      ],
      "metadata": {
        "id": "fP1DTiH9XEIs"
      }
    },
    {
      "cell_type": "code",
      "source": [
        "class Book:\n",
        "    def __init__(self, title, author, year_published):\n",
        "        # Initialize the book with title, author, and year_published\n",
        "        self.title = title\n",
        "        self.author = author\n",
        "        self.year_published = year_published\n",
        "\n",
        "    def get_book_info(self):\n",
        "        # Return a formatted string with book details\n",
        "        return f\"'{self.title}' by {self.author}, published in {self.year_published}\"\n",
        "\n",
        "# Example usage\n",
        "book1 = Book(\"1984\", \"George Orwell\", 1949)\n",
        "book2 = Book(\"To Kill a Mockingbird\", \"Harper Lee\", 1960)\n",
        "\n",
        "# Get and print the book information\n",
        "print(book1.get_book_info())  # Output: '1984' by George Orwell, published in 1949\n",
        "print(book2.get_book_info())  # Output: 'To Kill a Mockingbird' by Harper Lee, published in 1960"
      ],
      "metadata": {
        "colab": {
          "base_uri": "https://localhost:8080/"
        },
        "id": "O6TtikhrXDUt",
        "outputId": "b33086d8-42b8-49fb-afda-4fe713db6dae"
      },
      "execution_count": 32,
      "outputs": [
        {
          "output_type": "stream",
          "name": "stdout",
          "text": [
            "'1984' by George Orwell, published in 1949\n",
            "'To Kill a Mockingbird' by Harper Lee, published in 1960\n"
          ]
        }
      ]
    },
    {
      "cell_type": "markdown",
      "source": [
        "**Q18. Create a class House with attributes address and price. Create a derived class Mansion that adds an attribute number_of_rooms.**"
      ],
      "metadata": {
        "id": "HugmKO0nXM_w"
      }
    },
    {
      "cell_type": "code",
      "source": [
        "# Base class House\n",
        "class House:\n",
        "    def __init__(self, address, price):\n",
        "        # Initialize the house with address and price\n",
        "        self.address = address\n",
        "        self.price = price\n",
        "\n",
        "# Derived class Mansion that adds number_of_rooms\n",
        "class Mansion(House):\n",
        "    def __init__(self, address, price, number_of_rooms):\n",
        "        # Initialize the base class (House) attributes\n",
        "        super().__init__(address, price)\n",
        "        # Initialize the number_of_rooms attribute\n",
        "        self.number_of_rooms = number_of_rooms\n",
        "\n",
        "    def get_mansion_info(self):\n",
        "        # Return a formatted string with mansion details\n",
        "        return f\"Mansion located at {self.address}, priced at ${self.price}, with {self.number_of_rooms} rooms.\"\n",
        "\n",
        "# Example usage\n",
        "house = House(\"123 Elm St\", 250000)\n",
        "mansion = Mansion(\"456 Luxury Ave\", 5000000, 10)\n",
        "\n",
        "# Print the details of the house and mansion\n",
        "print(f\"House: Address - {house.address}, Price - ${house.price}\")\n",
        "print(mansion.get_mansion_info())  # Output: Mansion located at 456 Luxury Ave, priced at $5000000, with 10 rooms.\n",
        "\n",
        ""
      ],
      "metadata": {
        "colab": {
          "base_uri": "https://localhost:8080/"
        },
        "id": "2wr7ku_QXKCf",
        "outputId": "ae7adf67-905b-4a44-cb2d-b41879366d67"
      },
      "execution_count": 33,
      "outputs": [
        {
          "output_type": "stream",
          "name": "stdout",
          "text": [
            "House: Address - 123 Elm St, Price - $250000\n",
            "Mansion located at 456 Luxury Ave, priced at $5000000, with 10 rooms.\n"
          ]
        }
      ]
    }
  ]
}